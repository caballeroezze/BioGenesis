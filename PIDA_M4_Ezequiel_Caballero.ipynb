{
 "cells": [
  {
   "cell_type": "markdown",
   "metadata": {},
   "source": [
    "Proyecto Integrador M4 Python"
   ]
  },
  {
   "cell_type": "code",
   "execution_count": 1,
   "metadata": {},
   "outputs": [],
   "source": [
    "import numpy as np\n",
    "import pandas as pd\n",
    "import seaborn as sns\n",
    "import matplotlib.pyplot as plt"
   ]
  },
  {
   "cell_type": "code",
   "execution_count": 2,
   "metadata": {},
   "outputs": [],
   "source": [
    "df = pd.read_csv(r\"C:\\Users\\54116\\Desktop\\Henry\\M4 - Python\\data_latinoamerica.csv\")"
   ]
  },
  {
   "cell_type": "code",
   "execution_count": 3,
   "metadata": {},
   "outputs": [
    {
     "name": "stdout",
     "output_type": "stream",
     "text": [
      "  location_key        date country_code country_name  new_confirmed  \\\n",
      "0           AR  2020-01-01           AR    Argentina            3.0   \n",
      "1           AR  2020-01-02           AR    Argentina           14.0   \n",
      "2           AR  2020-01-03           AR    Argentina            3.0   \n",
      "3           AR  2020-01-04           AR    Argentina            7.0   \n",
      "4           AR  2020-01-05           AR    Argentina            5.0   \n",
      "\n",
      "   new_deceased  cumulative_confirmed  cumulative_deceased  \\\n",
      "0           0.0                   3.0                  0.0   \n",
      "1           0.0                  17.0                  0.0   \n",
      "2           0.0                  20.0                  0.0   \n",
      "3           0.0                  27.0                  0.0   \n",
      "4           0.0                  32.0                  0.0   \n",
      "\n",
      "   cumulative_vaccine_doses_administered  population  ...  \\\n",
      "0                                    NaN  44938712.0  ...   \n",
      "1                                    NaN  44938712.0  ...   \n",
      "2                                    NaN  44938712.0  ...   \n",
      "3                                    NaN  44938712.0  ...   \n",
      "4                                    NaN  44938712.0  ...   \n",
      "\n",
      "   population_largest_city  area_rural_sq_km  area_urban_sq_km  \\\n",
      "0               15057273.0         2690269.0           55032.0   \n",
      "1               15057273.0         2690269.0           55032.0   \n",
      "2               15057273.0         2690269.0           55032.0   \n",
      "3               15057273.0         2690269.0           55032.0   \n",
      "4               15057273.0         2690269.0           55032.0   \n",
      "\n",
      "   life_expectancy  adult_male_mortality_rate  adult_female_mortality_rate  \\\n",
      "0            76.52                    147.086                       79.483   \n",
      "1            76.52                    147.086                       79.483   \n",
      "2            76.52                    147.086                       79.483   \n",
      "3            76.52                    147.086                       79.483   \n",
      "4            76.52                    147.086                       79.483   \n",
      "\n",
      "   pollution_mortality_rate  comorbidity_mortality_rate  new_recovered  \\\n",
      "0                      26.6                        15.8            NaN   \n",
      "1                      26.6                        15.8            NaN   \n",
      "2                      26.6                        15.8            NaN   \n",
      "3                      26.6                        15.8            NaN   \n",
      "4                      26.6                        15.8            NaN   \n",
      "\n",
      "   cumulative_recovered  \n",
      "0                   NaN  \n",
      "1                   NaN  \n",
      "2                   NaN  \n",
      "3                   NaN  \n",
      "4                   NaN  \n",
      "\n",
      "[5 rows x 50 columns]\n"
     ]
    }
   ],
   "source": [
    "print(df.head())"
   ]
  },
  {
   "cell_type": "markdown",
   "metadata": {},
   "source": []
  },
  {
   "cell_type": "code",
   "execution_count": 4,
   "metadata": {},
   "outputs": [
    {
     "data": {
      "text/plain": [
       "(12216057, 50)"
      ]
     },
     "execution_count": 4,
     "metadata": {},
     "output_type": "execute_result"
    }
   ],
   "source": [
    "df.shape"
   ]
  },
  {
   "cell_type": "markdown",
   "metadata": {},
   "source": [
    "Seleccionar los países donde se expandirán: Colombia, Argentina, Chile, México, Perú y Brasil."
   ]
  },
  {
   "cell_type": "code",
   "execution_count": 5,
   "metadata": {},
   "outputs": [
    {
     "name": "stdout",
     "output_type": "stream",
     "text": [
      "  location_key        date country_code country_name  new_confirmed  \\\n",
      "0           AR  2020-01-01           AR    Argentina            3.0   \n",
      "1           AR  2020-01-02           AR    Argentina           14.0   \n",
      "2           AR  2020-01-03           AR    Argentina            3.0   \n",
      "3           AR  2020-01-04           AR    Argentina            7.0   \n",
      "4           AR  2020-01-05           AR    Argentina            5.0   \n",
      "\n",
      "   new_deceased  cumulative_confirmed  cumulative_deceased  \\\n",
      "0           0.0                   3.0                  0.0   \n",
      "1           0.0                  17.0                  0.0   \n",
      "2           0.0                  20.0                  0.0   \n",
      "3           0.0                  27.0                  0.0   \n",
      "4           0.0                  32.0                  0.0   \n",
      "\n",
      "   cumulative_vaccine_doses_administered  population  ...  \\\n",
      "0                                    NaN  44938712.0  ...   \n",
      "1                                    NaN  44938712.0  ...   \n",
      "2                                    NaN  44938712.0  ...   \n",
      "3                                    NaN  44938712.0  ...   \n",
      "4                                    NaN  44938712.0  ...   \n",
      "\n",
      "   population_largest_city  area_rural_sq_km  area_urban_sq_km  \\\n",
      "0               15057273.0         2690269.0           55032.0   \n",
      "1               15057273.0         2690269.0           55032.0   \n",
      "2               15057273.0         2690269.0           55032.0   \n",
      "3               15057273.0         2690269.0           55032.0   \n",
      "4               15057273.0         2690269.0           55032.0   \n",
      "\n",
      "   life_expectancy  adult_male_mortality_rate  adult_female_mortality_rate  \\\n",
      "0            76.52                    147.086                       79.483   \n",
      "1            76.52                    147.086                       79.483   \n",
      "2            76.52                    147.086                       79.483   \n",
      "3            76.52                    147.086                       79.483   \n",
      "4            76.52                    147.086                       79.483   \n",
      "\n",
      "   pollution_mortality_rate  comorbidity_mortality_rate  new_recovered  \\\n",
      "0                      26.6                        15.8            NaN   \n",
      "1                      26.6                        15.8            NaN   \n",
      "2                      26.6                        15.8            NaN   \n",
      "3                      26.6                        15.8            NaN   \n",
      "4                      26.6                        15.8            NaN   \n",
      "\n",
      "   cumulative_recovered  \n",
      "0                   NaN  \n",
      "1                   NaN  \n",
      "2                   NaN  \n",
      "3                   NaN  \n",
      "4                   NaN  \n",
      "\n",
      "[5 rows x 50 columns]\n"
     ]
    }
   ],
   "source": [
    "# Lista de países a filtrar\n",
    "paises_seleccionados = ['CO', 'AR', 'CL', 'MX', 'PE', 'BR']\n",
    "\n",
    "# Filtrar el DataFrame para obtener solo los datos de los países seleccionados\n",
    "df_filtrado = df[df['country_code'].isin(paises_seleccionados)]\n",
    "\n",
    "# Mostrar el DataFrame filtrado\n",
    "print(df_filtrado.head())"
   ]
  },
  {
   "cell_type": "code",
   "execution_count": 6,
   "metadata": {},
   "outputs": [
    {
     "data": {
      "text/plain": [
       "(11970289, 50)"
      ]
     },
     "execution_count": 6,
     "metadata": {},
     "output_type": "execute_result"
    }
   ],
   "source": [
    "df_filtrado.shape"
   ]
  },
  {
   "cell_type": "markdown",
   "metadata": {},
   "source": [
    "Filtra los datos en fechas mayores a 2021-01-01"
   ]
  },
  {
   "cell_type": "code",
   "execution_count": 7,
   "metadata": {},
   "outputs": [
    {
     "name": "stderr",
     "output_type": "stream",
     "text": [
      "C:\\Users\\54116\\AppData\\Local\\Temp\\ipykernel_16364\\1088445920.py:2: SettingWithCopyWarning: \n",
      "A value is trying to be set on a copy of a slice from a DataFrame.\n",
      "Try using .loc[row_indexer,col_indexer] = value instead\n",
      "\n",
      "See the caveats in the documentation: https://pandas.pydata.org/pandas-docs/stable/user_guide/indexing.html#returning-a-view-versus-a-copy\n",
      "  df_filtrado['date'] = pd.to_datetime(df_filtrado['date'])\n"
     ]
    },
    {
     "name": "stdout",
     "output_type": "stream",
     "text": [
      "    location_key       date country_code country_name  new_confirmed  \\\n",
      "367           AR 2021-01-02           AR    Argentina         7767.0   \n",
      "368           AR 2021-01-03           AR    Argentina         4934.0   \n",
      "369           AR 2021-01-04           AR    Argentina        13953.0   \n",
      "370           AR 2021-01-05           AR    Argentina        14085.0   \n",
      "371           AR 2021-01-06           AR    Argentina        14496.0   \n",
      "\n",
      "     new_deceased  cumulative_confirmed  cumulative_deceased  \\\n",
      "367         166.0             1670634.0              46688.0   \n",
      "368         157.0             1675568.0              46845.0   \n",
      "369         157.0             1689521.0              47002.0   \n",
      "370         160.0             1703606.0              47162.0   \n",
      "371         131.0             1718102.0              47293.0   \n",
      "\n",
      "     cumulative_vaccine_doses_administered  population  ...  \\\n",
      "367                                20334.0  44938712.0  ...   \n",
      "368                                20529.0  44938712.0  ...   \n",
      "369                                25164.0  44938712.0  ...   \n",
      "370                                29852.0  44938712.0  ...   \n",
      "371                                34162.0  44938712.0  ...   \n",
      "\n",
      "     population_largest_city  area_rural_sq_km  area_urban_sq_km  \\\n",
      "367               15057273.0         2690269.0           55032.0   \n",
      "368               15057273.0         2690269.0           55032.0   \n",
      "369               15057273.0         2690269.0           55032.0   \n",
      "370               15057273.0         2690269.0           55032.0   \n",
      "371               15057273.0         2690269.0           55032.0   \n",
      "\n",
      "     life_expectancy  adult_male_mortality_rate  adult_female_mortality_rate  \\\n",
      "367            76.52                    147.086                       79.483   \n",
      "368            76.52                    147.086                       79.483   \n",
      "369            76.52                    147.086                       79.483   \n",
      "370            76.52                    147.086                       79.483   \n",
      "371            76.52                    147.086                       79.483   \n",
      "\n",
      "     pollution_mortality_rate  comorbidity_mortality_rate  new_recovered  \\\n",
      "367                      26.6                        15.8            NaN   \n",
      "368                      26.6                        15.8            NaN   \n",
      "369                      26.6                        15.8            NaN   \n",
      "370                      26.6                        15.8            NaN   \n",
      "371                      26.6                        15.8            NaN   \n",
      "\n",
      "     cumulative_recovered  \n",
      "367                   NaN  \n",
      "368                   NaN  \n",
      "369                   NaN  \n",
      "370                   NaN  \n",
      "371                   NaN  \n",
      "\n",
      "[5 rows x 50 columns]\n"
     ]
    }
   ],
   "source": [
    "# Convertir la columna 'date' a tipo datetime\n",
    "df_filtrado['date'] = pd.to_datetime(df_filtrado['date'])\n",
    "\n",
    "# Filtrar el DataFrame para obtener solo los datos con fechas mayores a 2021-01-01\n",
    "df_filtrado = df_filtrado[df_filtrado['date'] > '2021-01-01']\n",
    "\n",
    "# Mostrar el DataFrame filtrado\n",
    "print(df_filtrado.head())"
   ]
  },
  {
   "cell_type": "code",
   "execution_count": 8,
   "metadata": {},
   "outputs": [
    {
     "name": "stdout",
     "output_type": "stream",
     "text": [
      "location_key                         0\n",
      "date                                 0\n",
      "country_code                         0\n",
      "country_name                         0\n",
      "new_confirmed                  3159884\n",
      "new_deceased                   3162543\n",
      "cumulative_confirmed           3159884\n",
      "cumulative_deceased            3162543\n",
      "population                      328224\n",
      "population_male                 706992\n",
      "population_female               706992\n",
      "population_age_00_09            922896\n",
      "population_age_10_19            922896\n",
      "population_age_20_29            922896\n",
      "population_age_30_39            922896\n",
      "population_age_40_49            922896\n",
      "population_age_50_59            922896\n",
      "population_age_60_69            922896\n",
      "population_age_70_79            922896\n",
      "population_age_80_and_older     922896\n",
      "latitude                        265824\n",
      "longitude                       265824\n",
      "area_sq_km                     1178736\n",
      "average_temperature_celsius     364864\n",
      "minimum_temperature_celsius     364935\n",
      "maximum_temperature_celsius     364918\n",
      "rainfall_mm                     417437\n",
      "relative_humidity               365369\n",
      "dtype: int64\n"
     ]
    }
   ],
   "source": [
    "num_valores_nulos = df_filtrado.isnull().sum()\n",
    "columnas_filtradas = num_valores_nulos[num_valores_nulos < 4000000]\n",
    "print(columnas_filtradas)"
   ]
  },
  {
   "cell_type": "markdown",
   "metadata": {},
   "source": []
  },
  {
   "cell_type": "code",
   "execution_count": 9,
   "metadata": {},
   "outputs": [
    {
     "name": "stdout",
     "output_type": "stream",
     "text": [
      "    location_key       date country_code country_name  new_confirmed  \\\n",
      "367           AR 2021-01-02           AR    Argentina         7767.0   \n",
      "368           AR 2021-01-03           AR    Argentina         4934.0   \n",
      "369           AR 2021-01-04           AR    Argentina        13953.0   \n",
      "370           AR 2021-01-05           AR    Argentina        14085.0   \n",
      "371           AR 2021-01-06           AR    Argentina        14496.0   \n",
      "\n",
      "     new_deceased  cumulative_confirmed  cumulative_deceased  population  \\\n",
      "367         166.0             1670634.0              46688.0  44938712.0   \n",
      "368         157.0             1675568.0              46845.0  44938712.0   \n",
      "369         157.0             1689521.0              47002.0  44938712.0   \n",
      "370         160.0             1703606.0              47162.0  44938712.0   \n",
      "371         131.0             1718102.0              47293.0  44938712.0   \n",
      "\n",
      "     population_male  ...  population_age_70_79  population_age_80_and_older  \\\n",
      "367       19523766.0  ...             1817557.0                     994030.0   \n",
      "368       19523766.0  ...             1817557.0                     994030.0   \n",
      "369       19523766.0  ...             1817557.0                     994030.0   \n",
      "370       19523766.0  ...             1817557.0                     994030.0   \n",
      "371       19523766.0  ...             1817557.0                     994030.0   \n",
      "\n",
      "     latitude  longitude  area_sq_km  average_temperature_celsius  \\\n",
      "367     -34.0      -64.0   2780400.0                    27.740741   \n",
      "368     -34.0      -64.0   2780400.0                    21.956790   \n",
      "369     -34.0      -64.0   2780400.0                    24.894444   \n",
      "370     -34.0      -64.0   2780400.0                    20.104938   \n",
      "371     -34.0      -64.0   2780400.0                    20.919753   \n",
      "\n",
      "     minimum_temperature_celsius  maximum_temperature_celsius  rainfall_mm  \\\n",
      "367                    18.098765                    33.962963     0.000000   \n",
      "368                    17.950617                    33.456790    13.144500   \n",
      "369                    18.072222                    30.244444     1.498600   \n",
      "370                    16.135802                    30.685185     8.286750   \n",
      "371                    13.290123                    26.580247     5.108222   \n",
      "\n",
      "     relative_humidity  \n",
      "367          43.581350  \n",
      "368          74.880846  \n",
      "369          60.805923  \n",
      "370          72.972595  \n",
      "371          52.241997  \n",
      "\n",
      "[5 rows x 28 columns]\n"
     ]
    }
   ],
   "source": [
    "df_columnas_filtradas = df_filtrado[columnas_filtradas.index]\n",
    "print(df_columnas_filtradas.head())"
   ]
  },
  {
   "cell_type": "code",
   "execution_count": 10,
   "metadata": {},
   "outputs": [
    {
     "data": {
      "text/plain": [
       "(7537296, 28)"
      ]
     },
     "execution_count": 10,
     "metadata": {},
     "output_type": "execute_result"
    }
   ],
   "source": [
    "df_columnas_filtradas.shape\n"
   ]
  },
  {
   "cell_type": "code",
   "execution_count": null,
   "metadata": {},
   "outputs": [],
   "source": [
    "# Llenar valores nulos a nivel de país utilizando la media\n",
    "# df_llenado = df_columnas_filtradas.groupby('country_name').apply(lambda group: group.fillna(group.mean())).reset_index(drop=True)\n",
    "\n",
    "# Mostrar el DataFrame después de llenar los valores faltantes\n",
    "# print(df_llenado.head())"
   ]
  },
  {
   "cell_type": "code",
   "execution_count": 17,
   "metadata": {},
   "outputs": [
    {
     "name": "stderr",
     "output_type": "stream",
     "text": [
      "C:\\Users\\54116\\AppData\\Local\\Temp\\ipykernel_16364\\4252894874.py:2: SettingWithCopyWarning: \n",
      "A value is trying to be set on a copy of a slice from a DataFrame.\n",
      "Try using .loc[row_indexer,col_indexer] = value instead\n",
      "\n",
      "See the caveats in the documentation: https://pandas.pydata.org/pandas-docs/stable/user_guide/indexing.html#returning-a-view-versus-a-copy\n",
      "  df_columnas_filtradas[columna] = df_columnas_filtradas.groupby('country_name')[columna].transform(lambda x: x.fillna(x.mean()))\n",
      "C:\\Users\\54116\\AppData\\Local\\Temp\\ipykernel_16364\\4252894874.py:2: SettingWithCopyWarning: \n",
      "A value is trying to be set on a copy of a slice from a DataFrame.\n",
      "Try using .loc[row_indexer,col_indexer] = value instead\n",
      "\n",
      "See the caveats in the documentation: https://pandas.pydata.org/pandas-docs/stable/user_guide/indexing.html#returning-a-view-versus-a-copy\n",
      "  df_columnas_filtradas[columna] = df_columnas_filtradas.groupby('country_name')[columna].transform(lambda x: x.fillna(x.mean()))\n",
      "C:\\Users\\54116\\AppData\\Local\\Temp\\ipykernel_16364\\4252894874.py:2: SettingWithCopyWarning: \n",
      "A value is trying to be set on a copy of a slice from a DataFrame.\n",
      "Try using .loc[row_indexer,col_indexer] = value instead\n",
      "\n",
      "See the caveats in the documentation: https://pandas.pydata.org/pandas-docs/stable/user_guide/indexing.html#returning-a-view-versus-a-copy\n",
      "  df_columnas_filtradas[columna] = df_columnas_filtradas.groupby('country_name')[columna].transform(lambda x: x.fillna(x.mean()))\n",
      "C:\\Users\\54116\\AppData\\Local\\Temp\\ipykernel_16364\\4252894874.py:2: SettingWithCopyWarning: \n",
      "A value is trying to be set on a copy of a slice from a DataFrame.\n",
      "Try using .loc[row_indexer,col_indexer] = value instead\n",
      "\n",
      "See the caveats in the documentation: https://pandas.pydata.org/pandas-docs/stable/user_guide/indexing.html#returning-a-view-versus-a-copy\n",
      "  df_columnas_filtradas[columna] = df_columnas_filtradas.groupby('country_name')[columna].transform(lambda x: x.fillna(x.mean()))\n",
      "C:\\Users\\54116\\AppData\\Local\\Temp\\ipykernel_16364\\4252894874.py:2: SettingWithCopyWarning: \n",
      "A value is trying to be set on a copy of a slice from a DataFrame.\n",
      "Try using .loc[row_indexer,col_indexer] = value instead\n",
      "\n",
      "See the caveats in the documentation: https://pandas.pydata.org/pandas-docs/stable/user_guide/indexing.html#returning-a-view-versus-a-copy\n",
      "  df_columnas_filtradas[columna] = df_columnas_filtradas.groupby('country_name')[columna].transform(lambda x: x.fillna(x.mean()))\n",
      "C:\\Users\\54116\\AppData\\Local\\Temp\\ipykernel_16364\\4252894874.py:2: SettingWithCopyWarning: \n",
      "A value is trying to be set on a copy of a slice from a DataFrame.\n",
      "Try using .loc[row_indexer,col_indexer] = value instead\n",
      "\n",
      "See the caveats in the documentation: https://pandas.pydata.org/pandas-docs/stable/user_guide/indexing.html#returning-a-view-versus-a-copy\n",
      "  df_columnas_filtradas[columna] = df_columnas_filtradas.groupby('country_name')[columna].transform(lambda x: x.fillna(x.mean()))\n",
      "C:\\Users\\54116\\AppData\\Local\\Temp\\ipykernel_16364\\4252894874.py:2: SettingWithCopyWarning: \n",
      "A value is trying to be set on a copy of a slice from a DataFrame.\n",
      "Try using .loc[row_indexer,col_indexer] = value instead\n",
      "\n",
      "See the caveats in the documentation: https://pandas.pydata.org/pandas-docs/stable/user_guide/indexing.html#returning-a-view-versus-a-copy\n",
      "  df_columnas_filtradas[columna] = df_columnas_filtradas.groupby('country_name')[columna].transform(lambda x: x.fillna(x.mean()))\n",
      "C:\\Users\\54116\\AppData\\Local\\Temp\\ipykernel_16364\\4252894874.py:2: SettingWithCopyWarning: \n",
      "A value is trying to be set on a copy of a slice from a DataFrame.\n",
      "Try using .loc[row_indexer,col_indexer] = value instead\n",
      "\n",
      "See the caveats in the documentation: https://pandas.pydata.org/pandas-docs/stable/user_guide/indexing.html#returning-a-view-versus-a-copy\n",
      "  df_columnas_filtradas[columna] = df_columnas_filtradas.groupby('country_name')[columna].transform(lambda x: x.fillna(x.mean()))\n",
      "C:\\Users\\54116\\AppData\\Local\\Temp\\ipykernel_16364\\4252894874.py:2: SettingWithCopyWarning: \n",
      "A value is trying to be set on a copy of a slice from a DataFrame.\n",
      "Try using .loc[row_indexer,col_indexer] = value instead\n",
      "\n",
      "See the caveats in the documentation: https://pandas.pydata.org/pandas-docs/stable/user_guide/indexing.html#returning-a-view-versus-a-copy\n",
      "  df_columnas_filtradas[columna] = df_columnas_filtradas.groupby('country_name')[columna].transform(lambda x: x.fillna(x.mean()))\n",
      "C:\\Users\\54116\\AppData\\Local\\Temp\\ipykernel_16364\\4252894874.py:2: SettingWithCopyWarning: \n",
      "A value is trying to be set on a copy of a slice from a DataFrame.\n",
      "Try using .loc[row_indexer,col_indexer] = value instead\n",
      "\n",
      "See the caveats in the documentation: https://pandas.pydata.org/pandas-docs/stable/user_guide/indexing.html#returning-a-view-versus-a-copy\n",
      "  df_columnas_filtradas[columna] = df_columnas_filtradas.groupby('country_name')[columna].transform(lambda x: x.fillna(x.mean()))\n",
      "C:\\Users\\54116\\AppData\\Local\\Temp\\ipykernel_16364\\4252894874.py:2: SettingWithCopyWarning: \n",
      "A value is trying to be set on a copy of a slice from a DataFrame.\n",
      "Try using .loc[row_indexer,col_indexer] = value instead\n",
      "\n",
      "See the caveats in the documentation: https://pandas.pydata.org/pandas-docs/stable/user_guide/indexing.html#returning-a-view-versus-a-copy\n",
      "  df_columnas_filtradas[columna] = df_columnas_filtradas.groupby('country_name')[columna].transform(lambda x: x.fillna(x.mean()))\n",
      "C:\\Users\\54116\\AppData\\Local\\Temp\\ipykernel_16364\\4252894874.py:2: SettingWithCopyWarning: \n",
      "A value is trying to be set on a copy of a slice from a DataFrame.\n",
      "Try using .loc[row_indexer,col_indexer] = value instead\n",
      "\n",
      "See the caveats in the documentation: https://pandas.pydata.org/pandas-docs/stable/user_guide/indexing.html#returning-a-view-versus-a-copy\n",
      "  df_columnas_filtradas[columna] = df_columnas_filtradas.groupby('country_name')[columna].transform(lambda x: x.fillna(x.mean()))\n",
      "C:\\Users\\54116\\AppData\\Local\\Temp\\ipykernel_16364\\4252894874.py:2: SettingWithCopyWarning: \n",
      "A value is trying to be set on a copy of a slice from a DataFrame.\n",
      "Try using .loc[row_indexer,col_indexer] = value instead\n",
      "\n",
      "See the caveats in the documentation: https://pandas.pydata.org/pandas-docs/stable/user_guide/indexing.html#returning-a-view-versus-a-copy\n",
      "  df_columnas_filtradas[columna] = df_columnas_filtradas.groupby('country_name')[columna].transform(lambda x: x.fillna(x.mean()))\n",
      "C:\\Users\\54116\\AppData\\Local\\Temp\\ipykernel_16364\\4252894874.py:2: SettingWithCopyWarning: \n",
      "A value is trying to be set on a copy of a slice from a DataFrame.\n",
      "Try using .loc[row_indexer,col_indexer] = value instead\n",
      "\n",
      "See the caveats in the documentation: https://pandas.pydata.org/pandas-docs/stable/user_guide/indexing.html#returning-a-view-versus-a-copy\n",
      "  df_columnas_filtradas[columna] = df_columnas_filtradas.groupby('country_name')[columna].transform(lambda x: x.fillna(x.mean()))\n",
      "C:\\Users\\54116\\AppData\\Local\\Temp\\ipykernel_16364\\4252894874.py:2: SettingWithCopyWarning: \n",
      "A value is trying to be set on a copy of a slice from a DataFrame.\n",
      "Try using .loc[row_indexer,col_indexer] = value instead\n",
      "\n",
      "See the caveats in the documentation: https://pandas.pydata.org/pandas-docs/stable/user_guide/indexing.html#returning-a-view-versus-a-copy\n",
      "  df_columnas_filtradas[columna] = df_columnas_filtradas.groupby('country_name')[columna].transform(lambda x: x.fillna(x.mean()))\n",
      "C:\\Users\\54116\\AppData\\Local\\Temp\\ipykernel_16364\\4252894874.py:2: SettingWithCopyWarning: \n",
      "A value is trying to be set on a copy of a slice from a DataFrame.\n",
      "Try using .loc[row_indexer,col_indexer] = value instead\n",
      "\n",
      "See the caveats in the documentation: https://pandas.pydata.org/pandas-docs/stable/user_guide/indexing.html#returning-a-view-versus-a-copy\n",
      "  df_columnas_filtradas[columna] = df_columnas_filtradas.groupby('country_name')[columna].transform(lambda x: x.fillna(x.mean()))\n",
      "C:\\Users\\54116\\AppData\\Local\\Temp\\ipykernel_16364\\4252894874.py:2: SettingWithCopyWarning: \n",
      "A value is trying to be set on a copy of a slice from a DataFrame.\n",
      "Try using .loc[row_indexer,col_indexer] = value instead\n",
      "\n",
      "See the caveats in the documentation: https://pandas.pydata.org/pandas-docs/stable/user_guide/indexing.html#returning-a-view-versus-a-copy\n",
      "  df_columnas_filtradas[columna] = df_columnas_filtradas.groupby('country_name')[columna].transform(lambda x: x.fillna(x.mean()))\n",
      "C:\\Users\\54116\\AppData\\Local\\Temp\\ipykernel_16364\\4252894874.py:2: SettingWithCopyWarning: \n",
      "A value is trying to be set on a copy of a slice from a DataFrame.\n",
      "Try using .loc[row_indexer,col_indexer] = value instead\n",
      "\n",
      "See the caveats in the documentation: https://pandas.pydata.org/pandas-docs/stable/user_guide/indexing.html#returning-a-view-versus-a-copy\n",
      "  df_columnas_filtradas[columna] = df_columnas_filtradas.groupby('country_name')[columna].transform(lambda x: x.fillna(x.mean()))\n",
      "C:\\Users\\54116\\AppData\\Local\\Temp\\ipykernel_16364\\4252894874.py:2: SettingWithCopyWarning: \n",
      "A value is trying to be set on a copy of a slice from a DataFrame.\n",
      "Try using .loc[row_indexer,col_indexer] = value instead\n",
      "\n",
      "See the caveats in the documentation: https://pandas.pydata.org/pandas-docs/stable/user_guide/indexing.html#returning-a-view-versus-a-copy\n",
      "  df_columnas_filtradas[columna] = df_columnas_filtradas.groupby('country_name')[columna].transform(lambda x: x.fillna(x.mean()))\n",
      "C:\\Users\\54116\\AppData\\Local\\Temp\\ipykernel_16364\\4252894874.py:2: SettingWithCopyWarning: \n",
      "A value is trying to be set on a copy of a slice from a DataFrame.\n",
      "Try using .loc[row_indexer,col_indexer] = value instead\n",
      "\n",
      "See the caveats in the documentation: https://pandas.pydata.org/pandas-docs/stable/user_guide/indexing.html#returning-a-view-versus-a-copy\n",
      "  df_columnas_filtradas[columna] = df_columnas_filtradas.groupby('country_name')[columna].transform(lambda x: x.fillna(x.mean()))\n",
      "C:\\Users\\54116\\AppData\\Local\\Temp\\ipykernel_16364\\4252894874.py:2: SettingWithCopyWarning: \n",
      "A value is trying to be set on a copy of a slice from a DataFrame.\n",
      "Try using .loc[row_indexer,col_indexer] = value instead\n",
      "\n",
      "See the caveats in the documentation: https://pandas.pydata.org/pandas-docs/stable/user_guide/indexing.html#returning-a-view-versus-a-copy\n",
      "  df_columnas_filtradas[columna] = df_columnas_filtradas.groupby('country_name')[columna].transform(lambda x: x.fillna(x.mean()))\n",
      "C:\\Users\\54116\\AppData\\Local\\Temp\\ipykernel_16364\\4252894874.py:2: SettingWithCopyWarning: \n",
      "A value is trying to be set on a copy of a slice from a DataFrame.\n",
      "Try using .loc[row_indexer,col_indexer] = value instead\n",
      "\n",
      "See the caveats in the documentation: https://pandas.pydata.org/pandas-docs/stable/user_guide/indexing.html#returning-a-view-versus-a-copy\n",
      "  df_columnas_filtradas[columna] = df_columnas_filtradas.groupby('country_name')[columna].transform(lambda x: x.fillna(x.mean()))\n",
      "C:\\Users\\54116\\AppData\\Local\\Temp\\ipykernel_16364\\4252894874.py:2: SettingWithCopyWarning: \n",
      "A value is trying to be set on a copy of a slice from a DataFrame.\n",
      "Try using .loc[row_indexer,col_indexer] = value instead\n",
      "\n",
      "See the caveats in the documentation: https://pandas.pydata.org/pandas-docs/stable/user_guide/indexing.html#returning-a-view-versus-a-copy\n",
      "  df_columnas_filtradas[columna] = df_columnas_filtradas.groupby('country_name')[columna].transform(lambda x: x.fillna(x.mean()))\n",
      "C:\\Users\\54116\\AppData\\Local\\Temp\\ipykernel_16364\\4252894874.py:2: SettingWithCopyWarning: \n",
      "A value is trying to be set on a copy of a slice from a DataFrame.\n",
      "Try using .loc[row_indexer,col_indexer] = value instead\n",
      "\n",
      "See the caveats in the documentation: https://pandas.pydata.org/pandas-docs/stable/user_guide/indexing.html#returning-a-view-versus-a-copy\n",
      "  df_columnas_filtradas[columna] = df_columnas_filtradas.groupby('country_name')[columna].transform(lambda x: x.fillna(x.mean()))\n"
     ]
    },
    {
     "name": "stdout",
     "output_type": "stream",
     "text": [
      "         location_key       date country_code country_name  new_confirmed  \\\n",
      "367                AR 2021-01-02           AR    Argentina    7767.000000   \n",
      "368                AR 2021-01-03           AR    Argentina    4934.000000   \n",
      "369                AR 2021-01-04           AR    Argentina   13953.000000   \n",
      "370                AR 2021-01-05           AR    Argentina   14085.000000   \n",
      "371                AR 2021-01-06           AR    Argentina   14496.000000   \n",
      "...               ...        ...          ...          ...            ...   \n",
      "12136772  PE_UCA_0401 2022-09-13           PE         Peru      39.534956   \n",
      "12136773  PE_UCA_0401 2022-09-14           PE         Peru      39.534956   \n",
      "12136774  PE_UCA_0401 2022-09-15           PE         Peru      39.534956   \n",
      "12136775  PE_UCA_0401 2022-09-16           PE         Peru      39.534956   \n",
      "12136776  PE_UCA_0401 2022-09-17           PE         Peru      39.534956   \n",
      "\n",
      "          new_deceased  cumulative_confirmed  cumulative_deceased  population  \\\n",
      "367         166.000000          1.670634e+06         46688.000000  44938712.0   \n",
      "368         157.000000          1.675568e+06         46845.000000  44938712.0   \n",
      "369         157.000000          1.689521e+06         47002.000000  44938712.0   \n",
      "370         160.000000          1.703606e+06         47162.000000  44938712.0   \n",
      "371         131.000000          1.718102e+06         47293.000000  44938712.0   \n",
      "...                ...                   ...                  ...         ...   \n",
      "12136772      1.785453          1.557608e+04          1271.119724      2860.0   \n",
      "12136773      1.785453          1.557608e+04          1271.119724      2860.0   \n",
      "12136774      1.785453          1.557608e+04          1271.119724      2860.0   \n",
      "12136775      1.785453          1.557608e+04          1271.119724      2860.0   \n",
      "12136776      1.785453          1.557608e+04          1271.119724      2860.0   \n",
      "\n",
      "          population_male  ...  population_age_70_79  \\\n",
      "367            19523766.0  ...             1817557.0   \n",
      "368            19523766.0  ...             1817557.0   \n",
      "369            19523766.0  ...             1817557.0   \n",
      "370            19523766.0  ...             1817557.0   \n",
      "371            19523766.0  ...             1817557.0   \n",
      "...                   ...  ...                   ...   \n",
      "12136772           1477.0  ...                  46.0   \n",
      "12136773           1477.0  ...                  46.0   \n",
      "12136774           1477.0  ...                  46.0   \n",
      "12136775           1477.0  ...                  46.0   \n",
      "12136776           1477.0  ...                  46.0   \n",
      "\n",
      "          population_age_80_and_older   latitude  longitude  area_sq_km  \\\n",
      "367                          994030.0 -34.000000 -64.000000   2780400.0   \n",
      "368                          994030.0 -34.000000 -64.000000   2780400.0   \n",
      "369                          994030.0 -34.000000 -64.000000   2780400.0   \n",
      "370                          994030.0 -34.000000 -64.000000   2780400.0   \n",
      "371                          994030.0 -34.000000 -64.000000   2780400.0   \n",
      "...                               ...        ...        ...         ...   \n",
      "12136772                          9.0  -9.798611 -70.753333     17847.0   \n",
      "12136773                          9.0  -9.798611 -70.753333     17847.0   \n",
      "12136774                          9.0  -9.798611 -70.753333     17847.0   \n",
      "12136775                          9.0  -9.798611 -70.753333     17847.0   \n",
      "12136776                          9.0  -9.798611 -70.753333     17847.0   \n",
      "\n",
      "          average_temperature_celsius  minimum_temperature_celsius  \\\n",
      "367                         27.740741                    18.098765   \n",
      "368                         21.956790                    17.950617   \n",
      "369                         24.894444                    18.072222   \n",
      "370                         20.104938                    16.135802   \n",
      "371                         20.919753                    13.290123   \n",
      "...                               ...                          ...   \n",
      "12136772                    31.777778                    21.722222   \n",
      "12136773                    19.675371                    14.613590   \n",
      "12136774                    19.675371                    14.613590   \n",
      "12136775                    19.675371                    14.613590   \n",
      "12136776                    19.675371                    14.613590   \n",
      "\n",
      "          maximum_temperature_celsius  rainfall_mm  relative_humidity  \n",
      "367                         33.962963     0.000000          43.581350  \n",
      "368                         33.456790    13.144500          74.880846  \n",
      "369                         30.244444     1.498600          60.805923  \n",
      "370                         30.685185     8.286750          72.972595  \n",
      "371                         26.580247     5.108222          52.241997  \n",
      "...                               ...          ...                ...  \n",
      "12136772                    36.722222    16.256000          62.040723  \n",
      "12136773                    23.641764     1.456305          65.430362  \n",
      "12136774                    23.641764     1.456305          65.430362  \n",
      "12136775                    23.641764     1.456305          65.430362  \n",
      "12136776                    23.641764     1.456305          65.430362  \n",
      "\n",
      "[7537296 rows x 28 columns]\n"
     ]
    }
   ],
   "source": [
    "for columna in df_columnas_filtradas.select_dtypes(include=[np.number]).columns:\n",
    "    df_columnas_filtradas[columna] = df_columnas_filtradas.groupby('country_name')[columna].transform(lambda x: x.fillna(x.mean()))\n",
    "print(df_columnas_filtradas)"
   ]
  },
  {
   "cell_type": "code",
   "execution_count": 18,
   "metadata": {},
   "outputs": [],
   "source": [
    "# Guardar el DataFrame filtrado en un archivo CSV\n",
    "df_columnas_filtradas.to_csv('DatosFinalesFiltrado.csv', index=False)\n"
   ]
  },
  {
   "cell_type": "code",
   "execution_count": null,
   "metadata": {},
   "outputs": [],
   "source": []
  }
 ],
 "metadata": {
  "kernelspec": {
   "display_name": "Python 3",
   "language": "python",
   "name": "python3"
  },
  "language_info": {
   "codemirror_mode": {
    "name": "ipython",
    "version": 3
   },
   "file_extension": ".py",
   "mimetype": "text/x-python",
   "name": "python",
   "nbconvert_exporter": "python",
   "pygments_lexer": "ipython3",
   "version": "3.11.3"
  }
 },
 "nbformat": 4,
 "nbformat_minor": 2
}
